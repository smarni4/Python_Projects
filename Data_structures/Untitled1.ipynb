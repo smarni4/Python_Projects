{
 "cells": [
  {
   "cell_type": "code",
   "execution_count": 4,
   "id": "0fb6bed5",
   "metadata": {},
   "outputs": [
    {
     "name": "stdout",
     "output_type": "stream",
     "text": [
      "A+\n",
      "A\n",
      "A-\n",
      "\n",
      "Percentage is 3.82\n"
     ]
    }
   ],
   "source": [
    "num_courses = 0\n",
    "total_points = 0\n",
    "points = {'A+': 4.0, 'A': 3.8, 'A-': 3.67}\n",
    "done = False\n",
    "while not done:\n",
    "    grade = input()\n",
    "    if grade == '':\n",
    "        done = True\n",
    "    else:\n",
    "        if grade not in points:\n",
    "            print('Invalid grade!')\n",
    "        else:\n",
    "            num_courses += 1\n",
    "            total_points += points[grade]\n",
    "if num_courses > 0:\n",
    "    print('Percentage is {0:.3}'.format(total_points/num_courses))"
   ]
  },
  {
   "cell_type": "code",
   "execution_count": null,
   "id": "79f40f5f",
   "metadata": {},
   "outputs": [],
   "source": []
  }
 ],
 "metadata": {
  "kernelspec": {
   "display_name": "Python 3 (ipykernel)",
   "language": "python",
   "name": "python3"
  },
  "language_info": {
   "codemirror_mode": {
    "name": "ipython",
    "version": 3
   },
   "file_extension": ".py",
   "mimetype": "text/x-python",
   "name": "python",
   "nbconvert_exporter": "python",
   "pygments_lexer": "ipython3",
   "version": "3.9.13"
  }
 },
 "nbformat": 4,
 "nbformat_minor": 5
}
