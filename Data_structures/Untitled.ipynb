{
 "cells": [
  {
   "cell_type": "code",
   "execution_count": 1,
   "id": "047a89b5",
   "metadata": {},
   "outputs": [],
   "source": [
    "num_courses = 0\n",
    "total_points = 0"
   ]
  },
  {
   "cell_type": "code",
   "execution_count": 2,
   "id": "a94b7116",
   "metadata": {},
   "outputs": [],
   "source": [
    "points = {'A+': 4.0, 'A': 4.0, 'A-': 3.67}"
   ]
  },
  {
   "cell_type": "code",
   "execution_count": null,
   "id": "6bd9abfd",
   "metadata": {},
   "outputs": [],
   "source": [
    "done = False\n",
    "grade = input()\n",
    "if grade:\n",
    "    num_courses += 1"
   ]
  },
  {
   "cell_type": "code",
   "execution_count": null,
   "id": "f5140ff7",
   "metadata": {},
   "outputs": [],
   "source": [
    "while not done:\n",
    "    if grade == '':\n",
    "        done = True\n",
    "    elif num_courses == 0:\n",
    "        print('Add the courses!')\n",
    "        done = True\n",
    "    elif grade[0] in points:\n",
    "        num_courses += 1\n",
    "        total_points += points[grade]\n",
    "if num_courses > 0:\n",
    "    print('Percentage is {0:.3}'.format(total_points/num_courses))"
   ]
  },
  {
   "cell_type": "code",
   "execution_count": null,
   "id": "beecf1ef",
   "metadata": {},
   "outputs": [],
   "source": []
  },
  {
   "cell_type": "code",
   "execution_count": null,
   "id": "a8001800",
   "metadata": {},
   "outputs": [],
   "source": []
  },
  {
   "cell_type": "code",
   "execution_count": null,
   "id": "9148c412",
   "metadata": {},
   "outputs": [],
   "source": []
  },
  {
   "cell_type": "code",
   "execution_count": null,
   "id": "90e6cbe5",
   "metadata": {},
   "outputs": [],
   "source": []
  }
 ],
 "metadata": {
  "kernelspec": {
   "display_name": "Python 3 (ipykernel)",
   "language": "python",
   "name": "python3"
  },
  "language_info": {
   "codemirror_mode": {
    "name": "ipython",
    "version": 3
   },
   "file_extension": ".py",
   "mimetype": "text/x-python",
   "name": "python",
   "nbconvert_exporter": "python",
   "pygments_lexer": "ipython3",
   "version": "3.9.13"
  }
 },
 "nbformat": 4,
 "nbformat_minor": 5
}
